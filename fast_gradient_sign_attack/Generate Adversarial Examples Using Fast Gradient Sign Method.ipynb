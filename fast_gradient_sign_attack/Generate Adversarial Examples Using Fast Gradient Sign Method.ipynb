{
 "cells": [
  {
   "cell_type": "code",
   "execution_count": 1,
   "metadata": {},
   "outputs": [
    {
     "name": "stderr",
     "output_type": "stream",
     "text": [
      "Using TensorFlow backend.\n"
     ]
    }
   ],
   "source": [
    "%matplotlib inline\n",
    "import os\n",
    "os.environ[\"CUDA_DEVICE_ORDER\"]=\"PCI_BUS_ID\"\n",
    "os.environ[\"CUDA_VISIBLE_DEVICES\"]=\"0\"\n",
    "import numpy as np\n",
    "import keras\n",
    "from keras import backend as K\n",
    "from keras.layers import Input, Dense, Conv2D, Dropout, MaxPooling2D,\\\n",
    "        AveragePooling2D, UpSampling2D, Activation, Flatten,\\\n",
    "        Reshape, merge\n",
    "from keras.layers.normalization import BatchNormalization\n",
    "from keras.models import Model, Sequential, load_model\n",
    "from keras.datasets import mnist, cifar10\n",
    "from keras.layers.merge import Concatenate, Add\n",
    "from keras.layers.advanced_activations import LeakyReLU\n",
    "from keras.applications.vgg19 import VGG19\n",
    "from keras import metrics\n",
    "from keras.applications.vgg16 import VGG16\n",
    "from keras.applications.vgg16 import decode_predictions\n",
    "from keras.optimizers import Adam, SGD\n",
    "from keras.regularizers import l2\n",
    "from keras.utils import to_categorical, plot_model\n",
    "\n",
    "from PIL import Image\n",
    "import scipy.misc\n",
    "from scipy.misc import imsave\n",
    "import matplotlib.pyplot as plt\n",
    "from matplotlib import offsetbox\n",
    "from matplotlib import animation,rc\n",
    "import bcolz\n",
    "import math\n",
    "import pydot\n",
    "import graphviz\n",
    "from IPython.display import HTML\n",
    "from sklearn import (manifold, datasets, decomposition, ensemble,\n",
    "                     discriminant_analysis, random_projection)\n",
    "from time import time"
   ]
  },
  {
   "cell_type": "code",
   "execution_count": 2,
   "metadata": {},
   "outputs": [
    {
     "data": {
      "text/plain": [
       "((50000, 28, 28, 1), (10000, 28, 28, 1), (10000, 10))"
      ]
     },
     "execution_count": 2,
     "metadata": {},
     "output_type": "execute_result"
    }
   ],
   "source": [
    "(x_all, y_all), (x_test, y_test) = mnist.load_data()\n",
    "x_train = x_all[:50000]\n",
    "y_train = y_all[:50000]\n",
    "\n",
    "x_validate = x_all[50000:]\n",
    "y_validate = y_all[50000:]\n",
    "\n",
    "#Normal dataset\n",
    "x_train = x_train.astype('float32') / 255.\n",
    "x_validate = x_validate.astype('float32') / 255.\n",
    "x_test = x_test.astype('float32') / 255.\n",
    "\n",
    "x_train = np.expand_dims(x_train, 3)\n",
    "x_validate = np.expand_dims(x_validate, 3)\n",
    "x_test = np.expand_dims(x_test, 3)\n",
    "\n",
    "y_train = to_categorical(y_train, num_classes = 10)\n",
    "y_validate = to_categorical(y_validate, num_classes = 10)\n",
    "y_test = to_categorical(y_test, num_classes = 10)\n",
    "\n",
    "x_train.shape, x_test.shape, y_test.shape"
   ]
  },
  {
   "cell_type": "markdown",
   "metadata": {},
   "source": [
    "## Load Classifier Model"
   ]
  },
  {
   "cell_type": "code",
   "execution_count": 3,
   "metadata": {
    "collapsed": true
   },
   "outputs": [],
   "source": [
    "classifier = load_model('classifier_.h5') \n",
    "classifier.compile(Adam(),loss='categorical_crossentropy')"
   ]
  },
  {
   "cell_type": "code",
   "execution_count": 4,
   "metadata": {},
   "outputs": [
    {
     "name": "stdout",
     "output_type": "stream",
     "text": [
      "Accuracy on test set: 98.48%\n"
     ]
    }
   ],
   "source": [
    "#Accuracy on test set\n",
    "'''Test our classifier accuracy'''\n",
    "prediction = classifier.predict(x_test)\n",
    "c = 0.0\n",
    "for i in range (len(prediction)):\n",
    "    if np.argmax(prediction[i]) == np.argmax(y_test[i]):\n",
    "        c += 1.0\n",
    "\n",
    "acc = c/len((prediction))\n",
    "print('Accuracy on test set: %.2f%%' % (acc * 100.0))"
   ]
  },
  {
   "cell_type": "markdown",
   "metadata": {},
   "source": [
    "# Generate Adversarial Examples"
   ]
  },
  {
   "cell_type": "code",
   "execution_count": 5,
   "metadata": {},
   "outputs": [],
   "source": [
    "'''First, we need to calculate the gradient signs for each image'''\n",
    "prediction_one_hot = np.zeros(10000)\n",
    "for i in range(10000):\n",
    "    prediction_one_hot[i] = np.argmax(prediction[i])\n",
    "target = np.zeros((10000,10))\n",
    "for i in range(10000):\n",
    "    target[i] = to_categorical(prediction_one_hot[i], 10)\n",
    "var = K.variable(target)\n",
    "loss = metrics.categorical_crossentropy(classifier.output, var)\n",
    "'''Calculate the gradient'''\n",
    "gradients_ = K.gradients(loss, classifier.input)\n",
    "gradients = K.function([classifier.input], gradients_)\n",
    "grads = gradients([x_test])[0]\n",
    "'''Get the sign of the derivative'''\n",
    "gradient_signs = np.sign(grads)"
   ]
  },
  {
   "cell_type": "code",
   "execution_count": 8,
   "metadata": {},
   "outputs": [],
   "source": [
    "epsilon = 0.2\n",
    "adversaries = gradient_signs * epsilon\n",
    "adv_imgs = x_test + adversaries\n",
    "adv_imgs = np.clip(adv_imgs, 0.0, 1.0)"
   ]
  },
  {
   "cell_type": "code",
   "execution_count": 10,
   "metadata": {},
   "outputs": [
    {
     "data": {
      "text/plain": [
       "(10000, 10)"
      ]
     },
     "execution_count": 10,
     "metadata": {},
     "output_type": "execute_result"
    }
   ],
   "source": [
    "prediction.shape"
   ]
  },
  {
   "cell_type": "code",
   "execution_count": 11,
   "metadata": {},
   "outputs": [
    {
     "data": {
      "image/png": "[encoded data removed]",
      "text/plain": [
       "<matplotlib.figure.Figure at 0x7fbcec5a8e48>"
      ]
     },
     "metadata": {},
     "output_type": "display_data"
    }
   ],
   "source": [
    "'''Show some adversarial images and the predictions of the classifier'''\n",
    "adv_pred = classifier.predict(adv_imgs)\n",
    "\n",
    "fig,ax = plt.subplots(nrows = 3, ncols = 6, figsize = (9,4))\n",
    "for i in range(6):\n",
    "    # display original images\n",
    "    ax[0,i].imshow(x_test[i,:,:,0], cmap = 'gray')\n",
    "    title = 'Prediction: ' + str(np.argmax(prediction[i]))\\\n",
    "            + ' (' +\\\n",
    "            '%.2f' % (np.amax(prediction[i]))\\\n",
    "            + ')'\n",
    "    ax[0,i].set_title(title, fontsize = 8)\n",
    "    ax[0,i].get_xaxis().set_visible(False)\n",
    "    ax[0,i].get_yaxis().set_visible(False)\n",
    "\n",
    "    # display adversaries\n",
    "    ax[1,i].imshow(adversaries[i,:,:,0], cmap = 'gray')\n",
    "    title = 'Ground Truth: ' +\\\n",
    "            str(np.argmax(y_test[i]))\n",
    "    ax[1,i].set_title(title, fontsize = 8)\n",
    "    ax[1,i].get_xaxis().set_visible(False)\n",
    "    ax[1,i].get_yaxis().set_visible(False)\n",
    "    \n",
    "    # display adversarial images\n",
    "    ax[2,i].imshow(adv_imgs[i,:,:,0], cmap = 'gray')\n",
    "    title = 'Prediction: ' + str(np.argmax(adv_pred[i]))\\\n",
    "            + ' (' +\\\n",
    "            '%.2f' % (np.amax(adv_pred[i]))\\\n",
    "            + ')'\n",
    "    ax[2,i].set_title(title, fontsize = 8)\n",
    "    ax[2,i].get_xaxis().set_visible(False)\n",
    "    ax[2,i].get_yaxis().set_visible(False)\n",
    "plt.tight_layout()\n",
    "plt.show()"
   ]
  },
  {
   "cell_type": "code",
   "execution_count": 13,
   "metadata": {},
   "outputs": [
    {
     "name": "stdout",
     "output_type": "stream",
     "text": [
      "Classifier ccuracy on adversarial test set: 4.98%\n"
     ]
    }
   ],
   "source": [
    "'''Accuracy on adversarial test set'''\n",
    "c = 0.0\n",
    "for i in range (len(adv_pred)):\n",
    "    if np.argmax(adv_pred[i]) == np.argmax(y_test[i]):\n",
    "        c += 1.0\n",
    "\n",
    "acc_adv = c/len((adv_pred))\n",
    "print('Classifier ccuracy on adversarial test set: %.2f%%' % (acc_adv * 100.0))"
   ]
  },
  {
   "cell_type": "code",
   "execution_count": null,
   "metadata": {
    "collapsed": true
   },
   "outputs": [],
   "source": []
  }
 ],
 "metadata": {
  "anaconda-cloud": {},
  "kernelspec": {
   "display_name": "Python 3",
   "language": "python",
   "name": "python3"
  },
  "language_info": {
   "codemirror_mode": {
    "name": "ipython",
    "version": 3
   },
   "file_extension": ".py",
   "mimetype": "text/x-python",
   "name": "python",
   "nbconvert_exporter": "python",
   "pygments_lexer": "ipython3",
   "version": "3.5.2"
  }
 },
 "nbformat": 4,
 "nbformat_minor": 2
}
