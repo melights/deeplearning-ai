{
 "cells": [
  {
   "cell_type": "code",
   "execution_count": 1,
   "metadata": {},
   "outputs": [
    {
     "name": "stderr",
     "output_type": "stream",
     "text": [
      "/usr/local/lib/python3.5/dist-packages/h5py/__init__.py:34: FutureWarning: Conversion of the second argument of issubdtype from `float` to `np.floating` is deprecated. In future, it will be treated as `np.float64 == np.dtype(float).type`.\n",
      "  from ._conv import register_converters as _register_converters\n",
      "Using TensorFlow backend.\n"
     ]
    }
   ],
   "source": [
    "%matplotlib inline\n",
    "import os\n",
    "os.environ[\"CUDA_DEVICE_ORDER\"]=\"PCI_BUS_ID\"\n",
    "os.environ[\"CUDA_VISIBLE_DEVICES\"]=\"1\"\n",
    "\n",
    "from keras.layers import TimeDistributed, Activation, Embedding, RNN, LSTM, Dropout, Dense\n",
    "from keras.models import Sequential\n",
    "from keras.optimizers import Adam\n",
    "from keras.models import load_model\n",
    "\n",
    "import numpy as np\n",
    "from numpy.random import choice"
   ]
  },
  {
   "cell_type": "markdown",
   "metadata": {},
   "source": [
    "## Prepare dataset"
   ]
  },
  {
   "cell_type": "code",
   "execution_count": 2,
   "metadata": {
    "collapsed": true
   },
   "outputs": [],
   "source": [
    "'''Open text file for our training data'''\n",
    "text = open('shakespeare.txt').read().lower()"
   ]
  },
  {
   "cell_type": "code",
   "execution_count": 3,
   "metadata": {},
   "outputs": [
    {
     "data": {
      "text/plain": [
       "\"\\n !',-.:;?abcdefghijklmnopqrstuvwxyz\""
      ]
     },
     "execution_count": 3,
     "metadata": {},
     "output_type": "execute_result"
    }
   ],
   "source": [
    "chars = sorted(list(set(text)))\n",
    "chars.insert(0, \"\\0\") #Add newline character\n",
    "vocab_size = len(chars)\n",
    "''.join(chars[1:])"
   ]
  },
  {
   "cell_type": "code",
   "execution_count": 4,
   "metadata": {},
   "outputs": [
    {
     "data": {
      "text/plain": [
       "'scene v. florence. without the walls. a tucket afar off.\\n\\nenter an old'"
      ]
     },
     "execution_count": 4,
     "metadata": {},
     "output_type": "execute_result"
    }
   ],
   "source": [
    "char_indices = dict((c, i) for i, c in enumerate(chars))\n",
    "indices_char = dict((i, c) for i, c in enumerate(chars))\n",
    "idx = [char_indices[c] for c in text]\n",
    "''.join(indices_char[i] for i in idx[:70])"
   ]
  },
  {
   "cell_type": "code",
   "execution_count": 5,
   "metadata": {},
   "outputs": [
    {
     "name": "stdout",
     "output_type": "stream",
     "text": [
      "number of sequences: 57936\n"
     ]
    }
   ],
   "source": [
    "'''Form the dataset in sentences'''\n",
    "sentences_length = 100\n",
    "sentences = []\n",
    "next_chars = []\n",
    "for i in range(0, len(idx) - sentences_length + 1):\n",
    "    sentences.append(idx[i: i + sentences_length]) #Assume a sentence is made of 100 characters\n",
    "    next_chars.append(idx[i + 1: i + sentences_length + 1]) #Offset by 1 to the right for the target\n",
    "print('number of sequences:', len(sentences))"
   ]
  },
  {
   "cell_type": "code",
   "execution_count": 6,
   "metadata": {},
   "outputs": [
    {
     "data": {
      "text/plain": [
       "((57934, 100), (57934, 100))"
      ]
     },
     "execution_count": 6,
     "metadata": {},
     "output_type": "execute_result"
    }
   ],
   "source": [
    "sentences = np.concatenate([[np.array(o)] for o in sentences[:-2]])\n",
    "next_chars = np.concatenate([[np.array(o)] for o in next_chars[:-2]])\n",
    "sentences.shape, next_chars.shape"
   ]
  },
  {
   "cell_type": "markdown",
   "metadata": {},
   "source": [
    "## Create the model or load trained model"
   ]
  },
  {
   "cell_type": "code",
   "execution_count": 7,
   "metadata": {},
   "outputs": [
    {
     "data": {
      "text/plain": [
       "'Load model - do not run the next 3 cells if this cell is used'"
      ]
     },
     "execution_count": 7,
     "metadata": {},
     "output_type": "execute_result"
    }
   ],
   "source": [
    "'''Load model - do not run the next 3 cells if this cell is used'''\n",
    "#model = load_model('lstm.h5')\n",
    "#model.compile(Adam(), loss = 'sparse_categorical_crossentropy')"
   ]
  },
  {
   "cell_type": "code",
   "execution_count": 8,
   "metadata": {
    "collapsed": true
   },
   "outputs": [],
   "source": [
    "embedding_size = 50\n",
    "model = Sequential([\n",
    "        Embedding(vocab_size, embedding_size, input_length = sentences_length),\n",
    "        LSTM(512, \n",
    "             return_sequences = True, #Return outputs at every time step\n",
    "             input_shape = (None, embedding_size),\n",
    "            ),\n",
    "        TimeDistributed(Dense(vocab_size)),\n",
    "        Activation('softmax')\n",
    "    ])    "
   ]
  },
  {
   "cell_type": "code",
   "execution_count": 9,
   "metadata": {
    "collapsed": true
   },
   "outputs": [],
   "source": [
    "model.compile(Adam(), loss = 'sparse_categorical_crossentropy')"
   ]
  },
  {
   "cell_type": "markdown",
   "metadata": {},
   "source": [
    "## Train"
   ]
  },
  {
   "cell_type": "code",
   "execution_count": 10,
   "metadata": {
    "scrolled": true
   },
   "outputs": [
    {
     "name": "stdout",
     "output_type": "stream",
     "text": [
      "Epoch 1/250\n",
      "57934/57934 [==============================] - 29s 499us/step - loss: 2.6940\n",
      "Epoch 2/250\n",
      "57934/57934 [==============================] - 28s 490us/step - loss: 2.0079\n",
      "Epoch 3/250\n",
      "57934/57934 [==============================] - 28s 489us/step - loss: 1.5770\n",
      "Epoch 4/250\n",
      "57934/57934 [==============================] - 29s 492us/step - loss: 1.0156\n",
      "Epoch 5/250\n",
      "57934/57934 [==============================] - 29s 492us/step - loss: 0.5377\n",
      "Epoch 6/250\n",
      "57934/57934 [==============================] - 28s 491us/step - loss: 0.3389\n",
      "Epoch 7/250\n",
      "57934/57934 [==============================] - 29s 492us/step - loss: 0.2679\n",
      "Epoch 8/250\n",
      "57934/57934 [==============================] - 29s 492us/step - loss: 0.2312\n",
      "Epoch 9/250\n",
      "57934/57934 [==============================] - 29s 492us/step - loss: 0.2079\n",
      "Epoch 10/250\n",
      "57934/57934 [==============================] - 29s 492us/step - loss: 0.1908\n",
      "Epoch 11/250\n",
      "57934/57934 [==============================] - 29s 493us/step - loss: 0.1776\n",
      "Epoch 12/250\n",
      "57934/57934 [==============================] - 29s 492us/step - loss: 0.1670\n",
      "Epoch 13/250\n",
      "57934/57934 [==============================] - 29s 493us/step - loss: 0.1583\n",
      "Epoch 14/250\n",
      "57934/57934 [==============================] - 29s 493us/step - loss: 0.1509\n",
      "Epoch 15/250\n",
      "57934/57934 [==============================] - 29s 493us/step - loss: 0.1446\n",
      "Epoch 16/250\n",
      "57934/57934 [==============================] - 29s 492us/step - loss: 0.1393\n",
      "Epoch 17/250\n",
      "57934/57934 [==============================] - 29s 492us/step - loss: 0.1345\n",
      "Epoch 18/250\n",
      "57934/57934 [==============================] - 29s 492us/step - loss: 0.1303\n",
      "Epoch 19/250\n",
      "57934/57934 [==============================] - 29s 494us/step - loss: 0.1265\n",
      "Epoch 20/250\n",
      "57934/57934 [==============================] - 29s 492us/step - loss: 0.1234\n",
      "Epoch 21/250\n",
      "57934/57934 [==============================] - 29s 492us/step - loss: 0.1205\n",
      "Epoch 22/250\n",
      "57934/57934 [==============================] - 29s 493us/step - loss: 0.1179\n",
      "Epoch 23/250\n",
      "57934/57934 [==============================] - 29s 492us/step - loss: 0.1157\n",
      "Epoch 24/250\n",
      "57934/57934 [==============================] - 29s 493us/step - loss: 0.1136\n",
      "Epoch 25/250\n",
      "57934/57934 [==============================] - 29s 492us/step - loss: 0.1118\n",
      "Epoch 26/250\n",
      "57934/57934 [==============================] - 29s 493us/step - loss: 0.1100\n",
      "Epoch 27/250\n",
      "57934/57934 [==============================] - 29s 492us/step - loss: 0.1085\n",
      "Epoch 28/250\n",
      "57934/57934 [==============================] - 29s 493us/step - loss: 0.1072\n",
      "Epoch 29/250\n",
      "57934/57934 [==============================] - 29s 493us/step - loss: 0.1059\n",
      "Epoch 30/250\n",
      "57934/57934 [==============================] - 29s 493us/step - loss: 0.1049\n",
      "Epoch 31/250\n",
      "57934/57934 [==============================] - 28s 492us/step - loss: 0.1039\n",
      "Epoch 32/250\n",
      "57934/57934 [==============================] - 29s 493us/step - loss: 0.1030\n",
      "Epoch 33/250\n",
      "57934/57934 [==============================] - 29s 493us/step - loss: 0.1021\n",
      "Epoch 34/250\n",
      "57934/57934 [==============================] - 28s 492us/step - loss: 0.1013\n",
      "Epoch 35/250\n",
      "57934/57934 [==============================] - 29s 494us/step - loss: 0.1008\n",
      "Epoch 36/250\n",
      "57934/57934 [==============================] - 29s 494us/step - loss: 0.1000\n",
      "Epoch 37/250\n",
      "57934/57934 [==============================] - 29s 492us/step - loss: 0.0994\n",
      "Epoch 38/250\n",
      "57934/57934 [==============================] - 29s 492us/step - loss: 0.0989\n",
      "Epoch 39/250\n",
      "57934/57934 [==============================] - 29s 493us/step - loss: 0.0984\n",
      "Epoch 40/250\n",
      "57934/57934 [==============================] - 29s 493us/step - loss: 0.0980\n",
      "Epoch 41/250\n",
      "57934/57934 [==============================] - 29s 492us/step - loss: 0.0976\n",
      "Epoch 42/250\n",
      "57934/57934 [==============================] - 28s 492us/step - loss: 0.0971\n",
      "Epoch 43/250\n",
      "57934/57934 [==============================] - 29s 492us/step - loss: 0.0968\n",
      "Epoch 44/250\n",
      "57934/57934 [==============================] - 29s 493us/step - loss: 0.0964\n",
      "Epoch 45/250\n",
      "57934/57934 [==============================] - 29s 494us/step - loss: 0.0961\n",
      "Epoch 46/250\n",
      "57934/57934 [==============================] - 29s 492us/step - loss: 0.0958\n",
      "Epoch 47/250\n",
      "57934/57934 [==============================] - 29s 493us/step - loss: 0.0955\n",
      "Epoch 48/250\n",
      "57934/57934 [==============================] - 29s 493us/step - loss: 0.0952\n",
      "Epoch 49/250\n",
      "57934/57934 [==============================] - 29s 492us/step - loss: 0.0949\n",
      "Epoch 50/250\n",
      "57934/57934 [==============================] - 29s 493us/step - loss: 0.0948\n",
      "Epoch 51/250\n",
      "57934/57934 [==============================] - 29s 493us/step - loss: 0.0945\n",
      "Epoch 52/250\n",
      "57934/57934 [==============================] - 28s 492us/step - loss: 0.0943\n",
      "Epoch 53/250\n",
      "57934/57934 [==============================] - 28s 492us/step - loss: 0.0941\n",
      "Epoch 54/250\n",
      "57934/57934 [==============================] - 29s 493us/step - loss: 0.0939\n",
      "Epoch 55/250\n",
      "57934/57934 [==============================] - 29s 492us/step - loss: 0.0937\n",
      "Epoch 56/250\n",
      "57934/57934 [==============================] - 29s 492us/step - loss: 0.0935\n",
      "Epoch 57/250\n",
      "57934/57934 [==============================] - 29s 493us/step - loss: 0.0934\n",
      "Epoch 58/250\n",
      "57934/57934 [==============================] - 29s 492us/step - loss: 0.0932\n",
      "Epoch 59/250\n",
      "57934/57934 [==============================] - 29s 492us/step - loss: 0.0930\n",
      "Epoch 60/250\n",
      "57934/57934 [==============================] - 29s 494us/step - loss: 0.0929\n",
      "Epoch 61/250\n",
      "57934/57934 [==============================] - 29s 493us/step - loss: 0.0928\n",
      "Epoch 62/250\n",
      "57934/57934 [==============================] - 29s 492us/step - loss: 0.0926\n",
      "Epoch 63/250\n",
      "57934/57934 [==============================] - 29s 493us/step - loss: 0.0925\n",
      "Epoch 64/250\n",
      "57934/57934 [==============================] - 28s 492us/step - loss: 0.0923\n",
      "Epoch 65/250\n",
      "57934/57934 [==============================] - 29s 493us/step - loss: 0.0922\n",
      "Epoch 66/250\n",
      "57934/57934 [==============================] - 29s 494us/step - loss: 0.0922\n",
      "Epoch 67/250\n",
      "57934/57934 [==============================] - 29s 494us/step - loss: 0.0920\n",
      "Epoch 68/250\n",
      "57934/57934 [==============================] - 28s 488us/step - loss: 0.0920\n",
      "Epoch 69/250\n",
      "57934/57934 [==============================] - 28s 487us/step - loss: 0.0919\n",
      "Epoch 70/250\n",
      "57934/57934 [==============================] - 28s 488us/step - loss: 0.0918\n",
      "Epoch 71/250\n",
      "57934/57934 [==============================] - 28s 490us/step - loss: 0.0916\n",
      "Epoch 72/250\n",
      "57934/57934 [==============================] - 28s 488us/step - loss: 0.0915\n",
      "Epoch 73/250\n",
      "57934/57934 [==============================] - 28s 489us/step - loss: 0.0915\n",
      "Epoch 74/250\n",
      "57934/57934 [==============================] - 28s 489us/step - loss: 0.0914\n",
      "Epoch 75/250\n",
      "57934/57934 [==============================] - 28s 489us/step - loss: 0.0913\n",
      "Epoch 76/250\n",
      "57934/57934 [==============================] - 28s 489us/step - loss: 0.0912\n",
      "Epoch 77/250\n",
      "57934/57934 [==============================] - 28s 490us/step - loss: 0.0911\n",
      "Epoch 78/250\n",
      "57934/57934 [==============================] - 28s 490us/step - loss: 0.0910\n",
      "Epoch 79/250\n",
      "57934/57934 [==============================] - 28s 490us/step - loss: 0.0910\n",
      "Epoch 80/250\n",
      "57934/57934 [==============================] - 28s 489us/step - loss: 0.0909\n",
      "Epoch 81/250\n",
      "57934/57934 [==============================] - 28s 490us/step - loss: 0.0908\n",
      "Epoch 82/250\n",
      "57934/57934 [==============================] - 28s 489us/step - loss: 0.0908\n",
      "Epoch 83/250\n",
      "57934/57934 [==============================] - 28s 490us/step - loss: 0.0907\n",
      "Epoch 84/250\n",
      "57934/57934 [==============================] - 28s 489us/step - loss: 0.0907\n",
      "Epoch 85/250\n",
      "57934/57934 [==============================] - 28s 489us/step - loss: 0.0906\n",
      "Epoch 86/250\n",
      "57934/57934 [==============================] - 28s 490us/step - loss: 0.0905\n",
      "Epoch 87/250\n",
      "57934/57934 [==============================] - 28s 491us/step - loss: 0.0905\n",
      "Epoch 88/250\n",
      "57934/57934 [==============================] - 28s 489us/step - loss: 0.0904\n",
      "Epoch 89/250\n",
      "57934/57934 [==============================] - 28s 489us/step - loss: 0.0903\n",
      "Epoch 90/250\n",
      "57934/57934 [==============================] - 28s 489us/step - loss: 0.0903\n",
      "Epoch 91/250\n",
      "57934/57934 [==============================] - 28s 489us/step - loss: 0.0902\n",
      "Epoch 92/250\n"
     ]
    },
    {
     "name": "stdout",
     "output_type": "stream",
     "text": [
      "57934/57934 [==============================] - 28s 488us/step - loss: 0.0901\n",
      "Epoch 93/250\n",
      "57934/57934 [==============================] - 28s 488us/step - loss: 0.0902\n",
      "Epoch 94/250\n",
      "57934/57934 [==============================] - 28s 487us/step - loss: 0.0901\n",
      "Epoch 95/250\n",
      "57934/57934 [==============================] - 28s 488us/step - loss: 0.0900\n",
      "Epoch 96/250\n",
      "57934/57934 [==============================] - 28s 488us/step - loss: 0.0899\n",
      "Epoch 97/250\n",
      "57934/57934 [==============================] - 28s 489us/step - loss: 0.0899\n",
      "Epoch 98/250\n",
      "57934/57934 [==============================] - 28s 488us/step - loss: 0.0898\n",
      "Epoch 99/250\n",
      "57934/57934 [==============================] - 28s 488us/step - loss: 0.0899\n",
      "Epoch 100/250\n",
      "57934/57934 [==============================] - 28s 488us/step - loss: 0.0898\n",
      "Epoch 101/250\n",
      "57934/57934 [==============================] - 28s 488us/step - loss: 0.0897\n",
      "Epoch 102/250\n",
      "57934/57934 [==============================] - 28s 488us/step - loss: 0.0897\n",
      "Epoch 103/250\n",
      "57934/57934 [==============================] - 28s 488us/step - loss: 0.0896\n",
      "Epoch 104/250\n",
      "57934/57934 [==============================] - 28s 488us/step - loss: 0.0896\n",
      "Epoch 105/250\n",
      "57934/57934 [==============================] - 28s 488us/step - loss: 0.0896\n",
      "Epoch 106/250\n",
      "57934/57934 [==============================] - 28s 488us/step - loss: 0.0896\n",
      "Epoch 107/250\n",
      "57934/57934 [==============================] - 28s 488us/step - loss: 0.0894\n",
      "Epoch 108/250\n",
      "57934/57934 [==============================] - 28s 489us/step - loss: 0.0894\n",
      "Epoch 109/250\n",
      "57934/57934 [==============================] - 28s 488us/step - loss: 0.0894\n",
      "Epoch 110/250\n",
      "57934/57934 [==============================] - 28s 488us/step - loss: 0.0893\n",
      "Epoch 111/250\n",
      "57934/57934 [==============================] - 28s 488us/step - loss: 0.0892\n",
      "Epoch 112/250\n",
      "57934/57934 [==============================] - 28s 488us/step - loss: 0.0893\n",
      "Epoch 113/250\n",
      "57934/57934 [==============================] - 28s 489us/step - loss: 0.0892\n",
      "Epoch 114/250\n",
      "57934/57934 [==============================] - 28s 488us/step - loss: 0.0892\n",
      "Epoch 115/250\n",
      "57934/57934 [==============================] - 28s 489us/step - loss: 0.0892\n",
      "Epoch 116/250\n",
      "57934/57934 [==============================] - 28s 488us/step - loss: 0.0892\n",
      "Epoch 117/250\n",
      "57934/57934 [==============================] - 28s 488us/step - loss: 0.0891\n",
      "Epoch 118/250\n",
      "57934/57934 [==============================] - 28s 488us/step - loss: 0.0891\n",
      "Epoch 119/250\n",
      "57934/57934 [==============================] - 28s 488us/step - loss: 0.0890\n",
      "Epoch 120/250\n",
      "57934/57934 [==============================] - 28s 488us/step - loss: 0.0890\n",
      "Epoch 121/250\n",
      "57934/57934 [==============================] - 28s 488us/step - loss: 0.0889\n",
      "Epoch 122/250\n",
      "57934/57934 [==============================] - 28s 489us/step - loss: 0.0889\n",
      "Epoch 123/250\n",
      "57934/57934 [==============================] - 28s 488us/step - loss: 0.0889\n",
      "Epoch 124/250\n",
      "57934/57934 [==============================] - 28s 489us/step - loss: 0.0889\n",
      "Epoch 125/250\n",
      "57934/57934 [==============================] - 28s 489us/step - loss: 0.0889\n",
      "Epoch 126/250\n",
      "57934/57934 [==============================] - 28s 489us/step - loss: 0.0889\n",
      "Epoch 127/250\n",
      "57934/57934 [==============================] - 28s 488us/step - loss: 0.0888\n",
      "Epoch 128/250\n",
      "57934/57934 [==============================] - 28s 488us/step - loss: 0.0888\n",
      "Epoch 129/250\n",
      "57934/57934 [==============================] - 28s 488us/step - loss: 0.0887\n",
      "Epoch 130/250\n",
      "57934/57934 [==============================] - 28s 489us/step - loss: 0.0887\n",
      "Epoch 131/250\n",
      "57934/57934 [==============================] - 28s 488us/step - loss: 0.0887\n",
      "Epoch 132/250\n",
      "57934/57934 [==============================] - 28s 489us/step - loss: 0.0886\n",
      "Epoch 133/250\n",
      "57934/57934 [==============================] - 28s 489us/step - loss: 0.0886\n",
      "Epoch 134/250\n",
      "57934/57934 [==============================] - 28s 488us/step - loss: 0.0886\n",
      "Epoch 135/250\n",
      "57934/57934 [==============================] - 28s 489us/step - loss: 0.0886\n",
      "Epoch 136/250\n",
      "57934/57934 [==============================] - 28s 489us/step - loss: 0.0885\n",
      "Epoch 137/250\n",
      "57934/57934 [==============================] - 28s 488us/step - loss: 0.0885\n",
      "Epoch 138/250\n",
      "57934/57934 [==============================] - 28s 488us/step - loss: 0.0885\n",
      "Epoch 139/250\n",
      "57934/57934 [==============================] - 28s 488us/step - loss: 0.0884\n",
      "Epoch 140/250\n",
      "57934/57934 [==============================] - 28s 489us/step - loss: 0.0884\n",
      "Epoch 141/250\n",
      "57934/57934 [==============================] - 28s 490us/step - loss: 0.0884\n",
      "Epoch 142/250\n",
      "57934/57934 [==============================] - 28s 488us/step - loss: 0.0884\n",
      "Epoch 143/250\n",
      "57934/57934 [==============================] - 28s 489us/step - loss: 0.0884\n",
      "Epoch 144/250\n",
      "57934/57934 [==============================] - 28s 488us/step - loss: 0.0884\n",
      "Epoch 145/250\n",
      "57934/57934 [==============================] - 28s 489us/step - loss: 0.0883\n",
      "Epoch 146/250\n",
      "57934/57934 [==============================] - 28s 489us/step - loss: 0.0883\n",
      "Epoch 147/250\n",
      "57934/57934 [==============================] - 28s 488us/step - loss: 0.0882\n",
      "Epoch 148/250\n",
      "57934/57934 [==============================] - 28s 488us/step - loss: 0.0882\n",
      "Epoch 149/250\n",
      "57934/57934 [==============================] - 28s 489us/step - loss: 0.0882\n",
      "Epoch 150/250\n",
      "57934/57934 [==============================] - 28s 489us/step - loss: 0.0882\n",
      "Epoch 151/250\n",
      "57934/57934 [==============================] - 28s 488us/step - loss: 0.0882\n",
      "Epoch 152/250\n",
      "57934/57934 [==============================] - 28s 489us/step - loss: 0.0881\n",
      "Epoch 153/250\n",
      "57934/57934 [==============================] - 28s 489us/step - loss: 0.0882\n",
      "Epoch 154/250\n",
      "57934/57934 [==============================] - 28s 489us/step - loss: 0.0881\n",
      "Epoch 155/250\n",
      "57934/57934 [==============================] - 28s 488us/step - loss: 0.0881\n",
      "Epoch 156/250\n",
      "57934/57934 [==============================] - 28s 489us/step - loss: 0.0881\n",
      "Epoch 157/250\n",
      "57934/57934 [==============================] - 28s 489us/step - loss: 0.0880\n",
      "Epoch 158/250\n",
      "57934/57934 [==============================] - 28s 488us/step - loss: 0.0881\n",
      "Epoch 159/250\n",
      "57934/57934 [==============================] - 28s 489us/step - loss: 0.0880\n",
      "Epoch 160/250\n",
      "57934/57934 [==============================] - 28s 489us/step - loss: 0.0880\n",
      "Epoch 161/250\n",
      "57934/57934 [==============================] - 28s 490us/step - loss: 0.0880\n",
      "Epoch 162/250\n",
      "57934/57934 [==============================] - 28s 489us/step - loss: 0.0879\n",
      "Epoch 163/250\n",
      "57934/57934 [==============================] - 28s 489us/step - loss: 0.0880\n",
      "Epoch 164/250\n",
      "57934/57934 [==============================] - 28s 488us/step - loss: 0.0879\n",
      "Epoch 165/250\n",
      "57934/57934 [==============================] - 28s 487us/step - loss: 0.0879\n",
      "Epoch 166/250\n",
      "57934/57934 [==============================] - 28s 488us/step - loss: 0.0879\n",
      "Epoch 167/250\n",
      "57934/57934 [==============================] - 28s 488us/step - loss: 0.0878\n",
      "Epoch 168/250\n",
      "57934/57934 [==============================] - 28s 489us/step - loss: 0.0879\n",
      "Epoch 169/250\n",
      "57934/57934 [==============================] - 28s 489us/step - loss: 0.0879\n",
      "Epoch 170/250\n",
      "57934/57934 [==============================] - 28s 489us/step - loss: 0.0878\n",
      "Epoch 171/250\n",
      "57934/57934 [==============================] - 28s 489us/step - loss: 0.0878\n",
      "Epoch 172/250\n",
      "57934/57934 [==============================] - 28s 489us/step - loss: 0.0878\n",
      "Epoch 173/250\n",
      "57934/57934 [==============================] - 28s 490us/step - loss: 0.0877\n",
      "Epoch 174/250\n",
      "57934/57934 [==============================] - 28s 489us/step - loss: 0.0878\n",
      "Epoch 175/250\n",
      "57934/57934 [==============================] - 28s 489us/step - loss: 0.0877\n",
      "Epoch 176/250\n",
      "57934/57934 [==============================] - 28s 489us/step - loss: 0.0877\n",
      "Epoch 177/250\n",
      "57934/57934 [==============================] - 28s 489us/step - loss: 0.0877\n",
      "Epoch 178/250\n",
      "57934/57934 [==============================] - 28s 489us/step - loss: 0.0877\n",
      "Epoch 179/250\n",
      "57934/57934 [==============================] - 28s 489us/step - loss: 0.0876\n",
      "Epoch 180/250\n",
      "57934/57934 [==============================] - 28s 489us/step - loss: 0.0877\n",
      "Epoch 181/250\n",
      "57934/57934 [==============================] - 28s 489us/step - loss: 0.0876\n",
      "Epoch 182/250\n"
     ]
    },
    {
     "name": "stdout",
     "output_type": "stream",
     "text": [
      "57934/57934 [==============================] - 28s 488us/step - loss: 0.0877\n",
      "Epoch 183/250\n",
      "57934/57934 [==============================] - 28s 487us/step - loss: 0.0876\n",
      "Epoch 184/250\n",
      "57934/57934 [==============================] - 28s 488us/step - loss: 0.0875\n",
      "Epoch 185/250\n",
      "57934/57934 [==============================] - 28s 488us/step - loss: 0.0875\n",
      "Epoch 186/250\n",
      "57934/57934 [==============================] - 28s 488us/step - loss: 0.0875\n",
      "Epoch 187/250\n",
      "57934/57934 [==============================] - 28s 489us/step - loss: 0.0876\n",
      "Epoch 188/250\n",
      "57934/57934 [==============================] - 28s 489us/step - loss: 0.0875\n",
      "Epoch 189/250\n",
      "57934/57934 [==============================] - 28s 488us/step - loss: 0.0875\n",
      "Epoch 190/250\n",
      "57934/57934 [==============================] - 28s 488us/step - loss: 0.0875\n",
      "Epoch 191/250\n",
      "57934/57934 [==============================] - 28s 488us/step - loss: 0.0875\n",
      "Epoch 192/250\n",
      "57934/57934 [==============================] - 28s 488us/step - loss: 0.0875\n",
      "Epoch 193/250\n",
      "57934/57934 [==============================] - 28s 488us/step - loss: 0.0874\n",
      "Epoch 194/250\n",
      "57934/57934 [==============================] - 28s 488us/step - loss: 0.0875\n",
      "Epoch 195/250\n",
      "57934/57934 [==============================] - 28s 488us/step - loss: 0.0874\n",
      "Epoch 196/250\n",
      "57934/57934 [==============================] - 28s 488us/step - loss: 0.0874\n",
      "Epoch 197/250\n",
      "57934/57934 [==============================] - 28s 488us/step - loss: 0.0873\n",
      "Epoch 198/250\n",
      "57934/57934 [==============================] - 28s 488us/step - loss: 0.0874\n",
      "Epoch 199/250\n",
      "57934/57934 [==============================] - 28s 488us/step - loss: 0.0873\n",
      "Epoch 200/250\n",
      "57934/57934 [==============================] - 28s 489us/step - loss: 0.0873\n",
      "Epoch 201/250\n",
      "57934/57934 [==============================] - 28s 488us/step - loss: 0.0874\n",
      "Epoch 202/250\n",
      "57934/57934 [==============================] - 28s 488us/step - loss: 0.0873\n",
      "Epoch 203/250\n",
      "57934/57934 [==============================] - 28s 489us/step - loss: 0.0873\n",
      "Epoch 204/250\n",
      "57934/57934 [==============================] - 28s 489us/step - loss: 0.0873\n",
      "Epoch 205/250\n",
      "57934/57934 [==============================] - 28s 489us/step - loss: 0.0873\n",
      "Epoch 206/250\n",
      "57934/57934 [==============================] - 28s 488us/step - loss: 0.0872\n",
      "Epoch 207/250\n",
      "57934/57934 [==============================] - 28s 489us/step - loss: 0.0873\n",
      "Epoch 208/250\n",
      "57934/57934 [==============================] - 28s 489us/step - loss: 0.0872\n",
      "Epoch 209/250\n",
      "57934/57934 [==============================] - 28s 489us/step - loss: 0.0872\n",
      "Epoch 210/250\n",
      "57934/57934 [==============================] - 28s 488us/step - loss: 0.0872\n",
      "Epoch 211/250\n",
      "57934/57934 [==============================] - 28s 488us/step - loss: 0.0872\n",
      "Epoch 212/250\n",
      "57934/57934 [==============================] - 28s 488us/step - loss: 0.0871\n",
      "Epoch 213/250\n",
      "57934/57934 [==============================] - 28s 490us/step - loss: 0.0872\n",
      "Epoch 214/250\n",
      "57934/57934 [==============================] - 28s 488us/step - loss: 0.0871\n",
      "Epoch 215/250\n",
      "57934/57934 [==============================] - 28s 488us/step - loss: 0.0872\n",
      "Epoch 216/250\n",
      "57934/57934 [==============================] - 28s 488us/step - loss: 0.0871\n",
      "Epoch 217/250\n",
      "57934/57934 [==============================] - 28s 488us/step - loss: 0.0871\n",
      "Epoch 218/250\n",
      "57934/57934 [==============================] - 28s 489us/step - loss: 0.0871\n",
      "Epoch 219/250\n",
      "57934/57934 [==============================] - 28s 488us/step - loss: 0.0871\n",
      "Epoch 220/250\n",
      "57934/57934 [==============================] - 28s 489us/step - loss: 0.0871\n",
      "Epoch 221/250\n",
      "57934/57934 [==============================] - 28s 488us/step - loss: 0.0871\n",
      "Epoch 222/250\n",
      "57934/57934 [==============================] - 28s 489us/step - loss: 0.0871\n",
      "Epoch 223/250\n",
      "57934/57934 [==============================] - 28s 489us/step - loss: 0.0870\n",
      "Epoch 224/250\n",
      "57934/57934 [==============================] - 28s 488us/step - loss: 0.0871\n",
      "Epoch 225/250\n",
      "57934/57934 [==============================] - 28s 489us/step - loss: 0.0870\n",
      "Epoch 226/250\n",
      "57934/57934 [==============================] - 28s 489us/step - loss: 0.0870\n",
      "Epoch 227/250\n",
      "57934/57934 [==============================] - 28s 489us/step - loss: 0.0870\n",
      "Epoch 228/250\n",
      "57934/57934 [==============================] - 28s 489us/step - loss: 0.0870\n",
      "Epoch 229/250\n",
      "57934/57934 [==============================] - 28s 489us/step - loss: 0.0870\n",
      "Epoch 230/250\n",
      "57934/57934 [==============================] - 28s 489us/step - loss: 0.0870\n",
      "Epoch 231/250\n",
      "57934/57934 [==============================] - 28s 489us/step - loss: 0.0870\n",
      "Epoch 232/250\n",
      "57934/57934 [==============================] - 28s 489us/step - loss: 0.0870\n",
      "Epoch 233/250\n",
      "57934/57934 [==============================] - 28s 489us/step - loss: 0.0870\n",
      "Epoch 234/250\n",
      "57934/57934 [==============================] - 28s 489us/step - loss: 0.0869\n",
      "Epoch 235/250\n",
      "57934/57934 [==============================] - 28s 489us/step - loss: 0.0869\n",
      "Epoch 236/250\n",
      "57934/57934 [==============================] - 28s 489us/step - loss: 0.0869\n",
      "Epoch 237/250\n",
      "57934/57934 [==============================] - 28s 488us/step - loss: 0.0869\n",
      "Epoch 238/250\n",
      "57934/57934 [==============================] - 28s 488us/step - loss: 0.0869\n",
      "Epoch 239/250\n",
      "57934/57934 [==============================] - 28s 488us/step - loss: 0.0869\n",
      "Epoch 240/250\n",
      "57934/57934 [==============================] - 28s 489us/step - loss: 0.0869\n",
      "Epoch 241/250\n",
      "57934/57934 [==============================] - 28s 488us/step - loss: 0.0869\n",
      "Epoch 242/250\n",
      "57934/57934 [==============================] - 28s 489us/step - loss: 0.0869\n",
      "Epoch 243/250\n",
      "57934/57934 [==============================] - 28s 489us/step - loss: 0.0868\n",
      "Epoch 244/250\n",
      "57934/57934 [==============================] - 28s 489us/step - loss: 0.0868\n",
      "Epoch 245/250\n",
      "57934/57934 [==============================] - 28s 488us/step - loss: 0.0868\n",
      "Epoch 246/250\n",
      "57934/57934 [==============================] - 28s 488us/step - loss: 0.0868\n",
      "Epoch 247/250\n",
      "57934/57934 [==============================] - 28s 489us/step - loss: 0.0868\n",
      "Epoch 248/250\n",
      "57934/57934 [==============================] - 28s 489us/step - loss: 0.0868\n",
      "Epoch 249/250\n",
      "57934/57934 [==============================] - 28s 489us/step - loss: 0.0867\n",
      "Epoch 250/250\n",
      "57934/57934 [==============================] - 28s 490us/step - loss: 0.0868\n"
     ]
    },
    {
     "data": {
      "text/plain": [
       "<keras.callbacks.History at 0x7fefbcfa5a90>"
      ]
     },
     "execution_count": 10,
     "metadata": {},
     "output_type": "execute_result"
    }
   ],
   "source": [
    "model.fit(sentences, np.expand_dims(next_chars,-1), batch_size = 256, epochs = 250)"
   ]
  },
  {
   "cell_type": "markdown",
   "metadata": {},
   "source": [
    "## Predict next characters"
   ]
  },
  {
   "cell_type": "code",
   "execution_count": 11,
   "metadata": {
    "collapsed": true
   },
   "outputs": [],
   "source": [
    "def predict_next_chars(init_chars, chars_to_predict = 50):\n",
    "    l = len(init_chars)\n",
    "    for i in range(chars_to_predict):\n",
    "        x = np.array([char_indices[c] for c in init_chars[-l:]])[np.newaxis,:]\n",
    "        pred = model.predict(x)[0][-1]\n",
    "        pred = pred / np.sum(pred)\n",
    "        predicted_character = choice(chars, p = pred)\n",
    "        init_chars += predicted_character\n",
    "    print(init_chars)"
   ]
  },
  {
   "cell_type": "code",
   "execution_count": 14,
   "metadata": {},
   "outputs": [
    {
     "name": "stdout",
     "output_type": "stream",
     "text": [
      "my name is reyrez and i have been solicited by neural networks that tries to generate new characters and ofe with treasure laden, hemm'd thieves;\n",
      "trifles, unwitnessed with eye or ear,\n",
      "thy coward heart\n"
     ]
    }
   ],
   "source": [
    "'''Lets give an input to LSTM and see its predictions for every time step'''\n",
    "init_chars = \"my name is reyrez and i have been solicited by neural networks that tries to generate new characters\"\n",
    "predict_next_chars(init_chars, chars_to_predict = 100)"
   ]
  },
  {
   "cell_type": "code",
   "execution_count": 15,
   "metadata": {
    "collapsed": true
   },
   "outputs": [],
   "source": [
    "model.save('lstm.h5')"
   ]
  },
  {
   "cell_type": "code",
   "execution_count": null,
   "metadata": {
    "collapsed": true
   },
   "outputs": [],
   "source": []
  }
 ],
 "metadata": {
  "kernelspec": {
   "display_name": "Python 3",
   "language": "python",
   "name": "python3"
  },
  "language_info": {
   "codemirror_mode": {
    "name": "ipython",
    "version": 3
   },
   "file_extension": ".py",
   "mimetype": "text/x-python",
   "name": "python",
   "nbconvert_exporter": "python",
   "pygments_lexer": "ipython3",
   "version": "3.5.2"
  },
  "nav_menu": {},
  "toc": {
   "navigate_menu": true,
   "number_sections": true,
   "sideBar": true,
   "threshold": 6,
   "toc_cell": true,
   "toc_section_display": "block",
   "toc_window_display": false
  },
  "widgets": {
   "state": {},
   "version": "1.1.2"
  }
 },
 "nbformat": 4,
 "nbformat_minor": 1
}
